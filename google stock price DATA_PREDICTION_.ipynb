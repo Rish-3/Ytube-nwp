{
  "nbformat": 4,
  "nbformat_minor": 0,
  "metadata": {
    "colab": {
      "provenance": [],
      "authorship_tag": "ABX9TyO/fbk23CWTQgDE0fAtid2K",
      "include_colab_link": true
    },
    "kernelspec": {
      "name": "python3",
      "display_name": "Python 3"
    },
    "language_info": {
      "name": "python"
    }
  },
  "cells": [
    {
      "cell_type": "markdown",
      "metadata": {
        "id": "view-in-github",
        "colab_type": "text"
      },
      "source": [
        "<a href=\"https://colab.research.google.com/github/Rish-3/Ytube-nwp/blob/main/google%20stock%20price%20DATA_PREDICTION_.ipynb\" target=\"_parent\"><img src=\"https://colab.research.google.com/assets/colab-badge.svg\" alt=\"Open In Colab\"/></a>"
      ]
    },
    {
      "cell_type": "code",
      "execution_count": null,
      "metadata": {
        "id": "HXSDNswB4jZz"
      },
      "outputs": [],
      "source": []
    },
    {
      "cell_type": "markdown",
      "source": [
        "# PRIDICT THE PRICE OF STOCK USING LSTM NETWORK "
      ],
      "metadata": {
        "id": "DXp_RhQPXS8Z"
      }
    },
    {
      "cell_type": "markdown",
      "source": [
        "*import the library*"
      ],
      "metadata": {
        "id": "9KZwEwcMYgri"
      }
    },
    {
      "cell_type": "code",
      "source": [
        "import pandas as pd \n",
        "import numpy as np\n",
        "import matplotlib.pyplot as plt"
      ],
      "metadata": {
        "id": "wdsgX15mXrn0"
      },
      "execution_count": 1,
      "outputs": []
    },
    {
      "cell_type": "markdown",
      "source": [
        "import the training data set\n",
        "\n",
        "1.   data preprpation 2. karas 3. evaluate\n",
        "\n"
      ],
      "metadata": {
        "id": "40X0sJqsY7d4"
      }
    },
    {
      "cell_type": "code",
      "source": [
        "#from google.colab import files\n",
        "#uploaded=files.upload()\n",
        "dataset_train=pd.read_csv(\"/content/Google_Stock_Price_Train.csv\")\n",
        "training_set=dataset_train.iloc[:, 1:2].values"
      ],
      "metadata": {
        "id": "kmEnfRCwZbvQ"
      },
      "execution_count": 2,
      "outputs": []
    },
    {
      "cell_type": "code",
      "source": [
        "# , MinMaxScaler\n",
        "# feature scaling\n",
        "from sklearn.preprocessing import MinMaxScaler\n",
        "sc=MinMaxScaler(feature_range=(0,1))\n",
        "training_set_scaled=sc.fit_transform(training_set)\n",
        "\n",
        "\n"
      ],
      "metadata": {
        "id": "Wyaoxx1XdyyR"
      },
      "execution_count": 3,
      "outputs": []
    },
    {
      "cell_type": "code",
      "source": [
        "# creating the data structure with 60 timesteps and output \n",
        "x_train=[]\n",
        "y_train=[]\n",
        "for i in range(60, 1258):\n",
        "  x_train.append(training_set_scaled[i-60:i, 0])\n",
        "  y_train.append(training_set_scaled[i,0])\n",
        "x_train, y_train=np.array(x_train),np.array(y_train)\n",
        "\n",
        "# Reshaping \n",
        "x_train=np.reshape(x_train, (x_train.shape[0],x_train.shape[1],1))\n"
      ],
      "metadata": {
        "id": "iJA5uCFmjcpN"
      },
      "execution_count": 5,
      "outputs": []
    },
    {
      "cell_type": "markdown",
      "source": [],
      "metadata": {
        "id": "yXICQ205eMIY"
      }
    },
    {
      "cell_type": "markdown",
      "source": [
        "***initializing the RNN***"
      ],
      "metadata": {
        "id": "MYzT1OaFjYqB"
      }
    },
    {
      "cell_type": "code",
      "source": [
        "# import the karas libraries and package\n",
        "from keras.models import Sequential\n",
        "from keras.layers import Dense\n",
        "from keras.layers import LSTM\n",
        "from keras.layers import Dropout"
      ],
      "metadata": {
        "id": "iE7bb_UIepU_"
      },
      "execution_count": 6,
      "outputs": []
    },
    {
      "cell_type": "code",
      "source": [
        "regressor=Sequential()"
      ],
      "metadata": {
        "id": "zXo18N42Y6E3"
      },
      "execution_count": 7,
      "outputs": []
    },
    {
      "cell_type": "markdown",
      "source": [
        "**Adding the some layer and some dropout regularization**"
      ],
      "metadata": {
        "id": "56rstBxegUOv"
      }
    },
    {
      "cell_type": "code",
      "source": [
        "# adding the first LSTM layer and some dropout regularisation\n",
        "regressor.add(LSTM(units=50, return_sequences=True, input_shape=(x_train.shape[1],1)))\n",
        "regressor.add(Dropout(0.2))"
      ],
      "metadata": {
        "id": "2qImeTXkgSpx"
      },
      "execution_count": 9,
      "outputs": []
    },
    {
      "cell_type": "code",
      "source": [
        "# adding the second LSTM layer and some dropout regularisation\n",
        "regressor.add(LSTM(units=50, return_sequences=True))\n",
        "regressor.add(Dropout(0.2))\n"
      ],
      "metadata": {
        "id": "5r24yBRGm2SY"
      },
      "execution_count": 10,
      "outputs": []
    },
    {
      "cell_type": "code",
      "source": [
        "# adding the third LSTM layer and some dropout regularisation\n",
        "regressor.add(LSTM(units=50, return_sequences=True))\n",
        "regressor.add(Dropout(0.2))"
      ],
      "metadata": {
        "id": "-aeIO4s0nn-e"
      },
      "execution_count": 11,
      "outputs": []
    },
    {
      "cell_type": "code",
      "source": [
        "# adding the fourth LSTM layer and some dropout regulation \n",
        "regressor.add(LSTM(units=50, return_sequences=True))\n",
        "regressor.add(Dropout(0.2))"
      ],
      "metadata": {
        "id": "k9_Ubj6noPUH"
      },
      "execution_count": 12,
      "outputs": []
    },
    {
      "cell_type": "markdown",
      "source": [
        "**8. adding the output layer**"
      ],
      "metadata": {
        "id": "RQI-il0PquTz"
      }
    },
    {
      "cell_type": "code",
      "source": [
        "# adding the output layer\n",
        "regressor.add(Dense(units=1))"
      ],
      "metadata": {
        "id": "a26VutF3q1Q7"
      },
      "execution_count": 13,
      "outputs": []
    },
    {
      "cell_type": "markdown",
      "source": [],
      "metadata": {
        "id": "dgqobSkTrCFB"
      }
    },
    {
      "cell_type": "code",
      "source": [
        "# adding the output layer\n",
        "regressor.add(Dense(units=1)) \n"
      ],
      "metadata": {
        "id": "34ZcXFqkqW3_"
      },
      "execution_count": null,
      "outputs": []
    },
    {
      "cell_type": "markdown",
      "source": [
        "**Compile the RNN**"
      ],
      "metadata": {
        "id": "qO5diiufrOiI"
      }
    },
    {
      "cell_type": "code",
      "source": [
        "# compiling the RNN\n",
        "regressor.compile(optimizer='adam', loss='mean_squared_error')"
      ],
      "metadata": {
        "id": "cYt3aZTprTy9"
      },
      "execution_count": 14,
      "outputs": []
    },
    {
      "cell_type": "code",
      "source": [
        "# fitting the RNN to the Training set\n",
        "regressor.fit(x_train,y_train, epochs=100, batch_size=32)"
      ],
      "metadata": {
        "colab": {
          "base_uri": "https://localhost:8080/"
        },
        "id": "8Wgnqzp5rx7s",
        "outputId": "42c391da-af72-41ae-d5bf-28f7f8b2db4e"
      },
      "execution_count": 15,
      "outputs": [
        {
          "output_type": "stream",
          "name": "stdout",
          "text": [
            "Epoch 1/100\n",
            "38/38 [==============================] - 23s 203ms/step - loss: 0.1253\n",
            "Epoch 2/100\n",
            "38/38 [==============================] - 7s 177ms/step - loss: 0.0854\n",
            "Epoch 3/100\n",
            "38/38 [==============================] - 8s 208ms/step - loss: 0.0829\n",
            "Epoch 4/100\n",
            "38/38 [==============================] - 7s 173ms/step - loss: 0.0816\n",
            "Epoch 5/100\n",
            "38/38 [==============================] - 8s 209ms/step - loss: 0.0804\n",
            "Epoch 6/100\n",
            "38/38 [==============================] - 7s 178ms/step - loss: 0.0787\n",
            "Epoch 7/100\n",
            "38/38 [==============================] - 8s 209ms/step - loss: 0.0789\n",
            "Epoch 8/100\n",
            "38/38 [==============================] - 7s 194ms/step - loss: 0.0780\n",
            "Epoch 9/100\n",
            "38/38 [==============================] - 7s 184ms/step - loss: 0.0778\n",
            "Epoch 10/100\n",
            "38/38 [==============================] - 8s 208ms/step - loss: 0.0775\n",
            "Epoch 11/100\n",
            "38/38 [==============================] - 7s 175ms/step - loss: 0.0779\n",
            "Epoch 12/100\n",
            "38/38 [==============================] - 8s 209ms/step - loss: 0.0779\n",
            "Epoch 13/100\n",
            "38/38 [==============================] - 7s 175ms/step - loss: 0.0770\n",
            "Epoch 14/100\n",
            "38/38 [==============================] - 8s 215ms/step - loss: 0.0768\n",
            "Epoch 15/100\n",
            "38/38 [==============================] - 8s 210ms/step - loss: 0.0769\n",
            "Epoch 16/100\n",
            "38/38 [==============================] - 8s 195ms/step - loss: 0.0770\n",
            "Epoch 17/100\n",
            "38/38 [==============================] - 8s 219ms/step - loss: 0.0764\n",
            "Epoch 18/100\n",
            "38/38 [==============================] - 7s 186ms/step - loss: 0.0763\n",
            "Epoch 19/100\n",
            "38/38 [==============================] - 8s 217ms/step - loss: 0.0759\n",
            "Epoch 20/100\n",
            "38/38 [==============================] - 8s 201ms/step - loss: 0.0767\n",
            "Epoch 21/100\n",
            "38/38 [==============================] - 8s 195ms/step - loss: 0.0759\n",
            "Epoch 22/100\n",
            "38/38 [==============================] - 8s 219ms/step - loss: 0.0766\n",
            "Epoch 23/100\n",
            "38/38 [==============================] - 7s 181ms/step - loss: 0.0758\n",
            "Epoch 24/100\n",
            "38/38 [==============================] - 8s 221ms/step - loss: 0.0759\n",
            "Epoch 25/100\n",
            "38/38 [==============================] - 8s 204ms/step - loss: 0.0759\n",
            "Epoch 26/100\n",
            "38/38 [==============================] - 8s 202ms/step - loss: 0.0756\n",
            "Epoch 27/100\n",
            "38/38 [==============================] - 10s 254ms/step - loss: 0.0756\n",
            "Epoch 28/100\n",
            "38/38 [==============================] - 11s 278ms/step - loss: 0.0760\n",
            "Epoch 29/100\n",
            "38/38 [==============================] - 10s 272ms/step - loss: 0.0758\n",
            "Epoch 30/100\n",
            "38/38 [==============================] - 10s 260ms/step - loss: 0.0757\n",
            "Epoch 31/100\n",
            "38/38 [==============================] - 11s 281ms/step - loss: 0.0756\n",
            "Epoch 32/100\n",
            "38/38 [==============================] - 10s 277ms/step - loss: 0.0761\n",
            "Epoch 33/100\n",
            "38/38 [==============================] - 8s 223ms/step - loss: 0.0752\n",
            "Epoch 34/100\n",
            "38/38 [==============================] - 9s 225ms/step - loss: 0.0754\n",
            "Epoch 35/100\n",
            "38/38 [==============================] - 9s 246ms/step - loss: 0.0754\n",
            "Epoch 36/100\n",
            "38/38 [==============================] - 10s 250ms/step - loss: 0.0754\n",
            "Epoch 37/100\n",
            "38/38 [==============================] - 9s 221ms/step - loss: 0.0755\n",
            "Epoch 38/100\n",
            "38/38 [==============================] - 11s 291ms/step - loss: 0.0754\n",
            "Epoch 39/100\n",
            "38/38 [==============================] - 11s 283ms/step - loss: 0.0753\n",
            "Epoch 40/100\n",
            "38/38 [==============================] - 8s 205ms/step - loss: 0.0754\n",
            "Epoch 41/100\n",
            "38/38 [==============================] - 12s 309ms/step - loss: 0.0752\n",
            "Epoch 42/100\n",
            "38/38 [==============================] - 9s 229ms/step - loss: 0.0752\n",
            "Epoch 43/100\n",
            "38/38 [==============================] - 11s 284ms/step - loss: 0.0754\n",
            "Epoch 44/100\n",
            "38/38 [==============================] - 7s 196ms/step - loss: 0.0751\n",
            "Epoch 45/100\n",
            "38/38 [==============================] - 11s 304ms/step - loss: 0.0751\n",
            "Epoch 46/100\n",
            "38/38 [==============================] - 16s 434ms/step - loss: 0.0754\n",
            "Epoch 47/100\n",
            "38/38 [==============================] - 8s 215ms/step - loss: 0.0751\n",
            "Epoch 48/100\n",
            "38/38 [==============================] - 8s 218ms/step - loss: 0.0751\n",
            "Epoch 49/100\n",
            "38/38 [==============================] - 7s 184ms/step - loss: 0.0750\n",
            "Epoch 50/100\n",
            "38/38 [==============================] - 10s 255ms/step - loss: 0.0752\n",
            "Epoch 51/100\n",
            "38/38 [==============================] - 10s 252ms/step - loss: 0.0752\n",
            "Epoch 52/100\n",
            "38/38 [==============================] - 10s 267ms/step - loss: 0.0752\n",
            "Epoch 53/100\n",
            "38/38 [==============================] - 11s 297ms/step - loss: 0.0749\n",
            "Epoch 54/100\n",
            "38/38 [==============================] - 11s 286ms/step - loss: 0.0753\n",
            "Epoch 55/100\n",
            "38/38 [==============================] - 10s 260ms/step - loss: 0.0751\n",
            "Epoch 56/100\n",
            "38/38 [==============================] - 7s 185ms/step - loss: 0.0751\n",
            "Epoch 57/100\n",
            "38/38 [==============================] - 8s 220ms/step - loss: 0.0752\n",
            "Epoch 58/100\n",
            "38/38 [==============================] - 9s 244ms/step - loss: 0.0750\n",
            "Epoch 59/100\n",
            "38/38 [==============================] - 9s 242ms/step - loss: 0.0749\n",
            "Epoch 60/100\n",
            "38/38 [==============================] - 10s 271ms/step - loss: 0.0753\n",
            "Epoch 61/100\n",
            "38/38 [==============================] - 9s 235ms/step - loss: 0.0753\n",
            "Epoch 62/100\n",
            "38/38 [==============================] - 10s 274ms/step - loss: 0.0751\n",
            "Epoch 63/100\n",
            "38/38 [==============================] - 14s 373ms/step - loss: 0.0747\n",
            "Epoch 64/100\n",
            "38/38 [==============================] - 16s 411ms/step - loss: 0.0751\n",
            "Epoch 65/100\n",
            "38/38 [==============================] - 10s 265ms/step - loss: 0.0749\n",
            "Epoch 66/100\n",
            "38/38 [==============================] - 12s 321ms/step - loss: 0.0750\n",
            "Epoch 67/100\n",
            "38/38 [==============================] - 11s 280ms/step - loss: 0.0749\n",
            "Epoch 68/100\n",
            "38/38 [==============================] - 8s 212ms/step - loss: 0.0749\n",
            "Epoch 69/100\n",
            "38/38 [==============================] - 8s 212ms/step - loss: 0.0749\n",
            "Epoch 70/100\n",
            "38/38 [==============================] - 7s 184ms/step - loss: 0.0752\n",
            "Epoch 71/100\n",
            "38/38 [==============================] - 9s 228ms/step - loss: 0.0756\n",
            "Epoch 72/100\n",
            "38/38 [==============================] - 10s 276ms/step - loss: 0.0750\n",
            "Epoch 73/100\n",
            "38/38 [==============================] - 8s 211ms/step - loss: 0.0748\n",
            "Epoch 74/100\n",
            "38/38 [==============================] - 14s 363ms/step - loss: 0.0750\n",
            "Epoch 75/100\n",
            "38/38 [==============================] - 11s 294ms/step - loss: 0.0749\n",
            "Epoch 76/100\n",
            "38/38 [==============================] - 12s 328ms/step - loss: 0.0751\n",
            "Epoch 77/100\n",
            "38/38 [==============================] - 12s 323ms/step - loss: 0.0751\n",
            "Epoch 78/100\n",
            "38/38 [==============================] - 9s 245ms/step - loss: 0.0749\n",
            "Epoch 79/100\n",
            "38/38 [==============================] - 13s 346ms/step - loss: 0.0749\n",
            "Epoch 80/100\n",
            "38/38 [==============================] - 7s 182ms/step - loss: 0.0750\n",
            "Epoch 81/100\n",
            "38/38 [==============================] - 10s 261ms/step - loss: 0.0751\n",
            "Epoch 82/100\n",
            "38/38 [==============================] - 10s 265ms/step - loss: 0.0750\n",
            "Epoch 83/100\n",
            "38/38 [==============================] - 9s 248ms/step - loss: 0.0749\n",
            "Epoch 84/100\n",
            "38/38 [==============================] - 10s 253ms/step - loss: 0.0748\n",
            "Epoch 85/100\n",
            "38/38 [==============================] - 9s 240ms/step - loss: 0.0750\n",
            "Epoch 86/100\n",
            "38/38 [==============================] - 11s 291ms/step - loss: 0.0751\n",
            "Epoch 87/100\n",
            "38/38 [==============================] - 10s 267ms/step - loss: 0.0749\n",
            "Epoch 88/100\n",
            "38/38 [==============================] - 11s 279ms/step - loss: 0.0748\n",
            "Epoch 89/100\n",
            "38/38 [==============================] - 14s 380ms/step - loss: 0.0749\n",
            "Epoch 90/100\n",
            "38/38 [==============================] - 15s 385ms/step - loss: 0.0748\n",
            "Epoch 91/100\n",
            "38/38 [==============================] - 10s 252ms/step - loss: 0.0749\n",
            "Epoch 92/100\n",
            "38/38 [==============================] - 8s 220ms/step - loss: 0.0750\n",
            "Epoch 93/100\n",
            "38/38 [==============================] - 11s 302ms/step - loss: 0.0747\n",
            "Epoch 94/100\n",
            "38/38 [==============================] - 12s 307ms/step - loss: 0.0747\n",
            "Epoch 95/100\n",
            "38/38 [==============================] - 11s 287ms/step - loss: 0.0749\n",
            "Epoch 96/100\n",
            "38/38 [==============================] - 15s 390ms/step - loss: 0.0748\n",
            "Epoch 97/100\n",
            "38/38 [==============================] - 12s 310ms/step - loss: 0.0748\n",
            "Epoch 98/100\n",
            "38/38 [==============================] - 11s 299ms/step - loss: 0.0750\n",
            "Epoch 99/100\n",
            "38/38 [==============================] - 12s 304ms/step - loss: 0.0749\n",
            "Epoch 100/100\n",
            "38/38 [==============================] - 11s 288ms/step - loss: 0.0749\n"
          ]
        },
        {
          "output_type": "execute_result",
          "data": {
            "text/plain": [
              "<keras.callbacks.History at 0x7fb3e7a1b460>"
            ]
          },
          "metadata": {},
          "execution_count": 15
        }
      ]
    },
    {
      "cell_type": "markdown",
      "source": [
        "part 3 : making the predictions and visualizing the results\n"
      ],
      "metadata": {
        "id": "hJXK-td5m1eU"
      }
    },
    {
      "cell_type": "code",
      "source": [
        "# getting real stock price of 2007\n",
        "dataset_test=pd.read_csv('/content/Google_Stock_Price_Test.csv')\n",
        "real_stock_price=dataset_test.iloc[:,1:2].values\n"
      ],
      "metadata": {
        "id": "nd9VJg8Vtn4l"
      },
      "execution_count": 16,
      "outputs": []
    },
    {
      "cell_type": "code",
      "source": [
        "# getting the predicted stock price of 2017\n",
        "dataset_total=pd.concat((dataset_train['Open'], dataset_test['Open']), axis=0)\n",
        "inputs=dataset_total[len(dataset_total)-len(dataset_test)-60:].values\n",
        "inputs=inputs.reshape(-1,1)\n",
        "inputs=sc.transform(inputs)\n",
        "X_test=[]\n",
        "for i in range(60,80):\n",
        "  X_test.append(inputs[i-60:i,0])\n",
        "X_test=np.array(X_test)\n",
        "X_test=np.reshape(X_test, (X_test.shape[0], X_test.shape[1], 1))\n",
        "predicted_stock_price= regressor.predict(X_test)\n",
        "# predicted_stock_price=sc.inverse_transform(predicted_stock_price)"
      ],
      "metadata": {
        "colab": {
          "base_uri": "https://localhost:8080/"
        },
        "id": "WYOXkswwugZP",
        "outputId": "9e30ff25-d21e-47fb-e53a-001d46226594"
      },
      "execution_count": 22,
      "outputs": [
        {
          "output_type": "stream",
          "name": "stdout",
          "text": [
            "1/1 [==============================] - 0s 58ms/step\n"
          ]
        }
      ]
    },
    {
      "cell_type": "code",
      "source": [
        "# visualising the result\n",
        "plt.plot(real_stock_price, color='red', label='Real google stock price')\n",
        "plt.plot(predicted_stock_price, color='blue', label='predicted Google stock price')\n",
        "plt.title('google stock price prediction ')\n",
        "plt.xlabel('Time')\n",
        "plt.ylabel('google stock price')\n",
        "plt.legend()\n",
        "plt.show()"
      ],
      "metadata": {
        "id": "j36qoQnuypJ2",
        "outputId": "856d4e89-bcdd-4f97-e16d-4c008392c844",
        "colab": {
          "base_uri": "https://localhost:8080/",
          "height": 808
        }
      },
      "execution_count": 23,
      "outputs": [
        {
          "output_type": "error",
          "ename": "ValueError",
          "evalue": "ignored",
          "traceback": [
            "\u001b[0;31m---------------------------------------------------------------------------\u001b[0m",
            "\u001b[0;31mValueError\u001b[0m                                Traceback (most recent call last)",
            "\u001b[0;32m<ipython-input-23-c3a9865ae7e5>\u001b[0m in \u001b[0;36m<cell line: 3>\u001b[0;34m()\u001b[0m\n\u001b[1;32m      1\u001b[0m \u001b[0;31m# visualising the result\u001b[0m\u001b[0;34m\u001b[0m\u001b[0;34m\u001b[0m\u001b[0m\n\u001b[1;32m      2\u001b[0m \u001b[0mplt\u001b[0m\u001b[0;34m.\u001b[0m\u001b[0mplot\u001b[0m\u001b[0;34m(\u001b[0m\u001b[0mreal_stock_price\u001b[0m\u001b[0;34m,\u001b[0m \u001b[0mcolor\u001b[0m\u001b[0;34m=\u001b[0m\u001b[0;34m'red'\u001b[0m\u001b[0;34m,\u001b[0m \u001b[0mlabel\u001b[0m\u001b[0;34m=\u001b[0m\u001b[0;34m'Real google stock price'\u001b[0m\u001b[0;34m)\u001b[0m\u001b[0;34m\u001b[0m\u001b[0;34m\u001b[0m\u001b[0m\n\u001b[0;32m----> 3\u001b[0;31m \u001b[0mplt\u001b[0m\u001b[0;34m.\u001b[0m\u001b[0mplot\u001b[0m\u001b[0;34m(\u001b[0m\u001b[0mpredicted_stock_price\u001b[0m\u001b[0;34m,\u001b[0m \u001b[0mcolor\u001b[0m\u001b[0;34m=\u001b[0m\u001b[0;34m'blue'\u001b[0m\u001b[0;34m,\u001b[0m \u001b[0mlabel\u001b[0m\u001b[0;34m=\u001b[0m\u001b[0;34m'predicted Google stock price'\u001b[0m\u001b[0;34m)\u001b[0m\u001b[0;34m\u001b[0m\u001b[0;34m\u001b[0m\u001b[0m\n\u001b[0m\u001b[1;32m      4\u001b[0m \u001b[0mplt\u001b[0m\u001b[0;34m.\u001b[0m\u001b[0mtitle\u001b[0m\u001b[0;34m(\u001b[0m\u001b[0;34m'google stock price prediction '\u001b[0m\u001b[0;34m)\u001b[0m\u001b[0;34m\u001b[0m\u001b[0;34m\u001b[0m\u001b[0m\n\u001b[1;32m      5\u001b[0m \u001b[0mplt\u001b[0m\u001b[0;34m.\u001b[0m\u001b[0mxlabel\u001b[0m\u001b[0;34m(\u001b[0m\u001b[0;34m'Time'\u001b[0m\u001b[0;34m)\u001b[0m\u001b[0;34m\u001b[0m\u001b[0;34m\u001b[0m\u001b[0m\n",
            "\u001b[0;32m/usr/local/lib/python3.10/dist-packages/matplotlib/pyplot.py\u001b[0m in \u001b[0;36mplot\u001b[0;34m(scalex, scaley, data, *args, **kwargs)\u001b[0m\n\u001b[1;32m   2810\u001b[0m \u001b[0;34m@\u001b[0m\u001b[0m_copy_docstring_and_deprecators\u001b[0m\u001b[0;34m(\u001b[0m\u001b[0mAxes\u001b[0m\u001b[0;34m.\u001b[0m\u001b[0mplot\u001b[0m\u001b[0;34m)\u001b[0m\u001b[0;34m\u001b[0m\u001b[0;34m\u001b[0m\u001b[0m\n\u001b[1;32m   2811\u001b[0m \u001b[0;32mdef\u001b[0m \u001b[0mplot\u001b[0m\u001b[0;34m(\u001b[0m\u001b[0;34m*\u001b[0m\u001b[0margs\u001b[0m\u001b[0;34m,\u001b[0m \u001b[0mscalex\u001b[0m\u001b[0;34m=\u001b[0m\u001b[0;32mTrue\u001b[0m\u001b[0;34m,\u001b[0m \u001b[0mscaley\u001b[0m\u001b[0;34m=\u001b[0m\u001b[0;32mTrue\u001b[0m\u001b[0;34m,\u001b[0m \u001b[0mdata\u001b[0m\u001b[0;34m=\u001b[0m\u001b[0;32mNone\u001b[0m\u001b[0;34m,\u001b[0m \u001b[0;34m**\u001b[0m\u001b[0mkwargs\u001b[0m\u001b[0;34m)\u001b[0m\u001b[0;34m:\u001b[0m\u001b[0;34m\u001b[0m\u001b[0;34m\u001b[0m\u001b[0m\n\u001b[0;32m-> 2812\u001b[0;31m     return gca().plot(\n\u001b[0m\u001b[1;32m   2813\u001b[0m         \u001b[0;34m*\u001b[0m\u001b[0margs\u001b[0m\u001b[0;34m,\u001b[0m \u001b[0mscalex\u001b[0m\u001b[0;34m=\u001b[0m\u001b[0mscalex\u001b[0m\u001b[0;34m,\u001b[0m \u001b[0mscaley\u001b[0m\u001b[0;34m=\u001b[0m\u001b[0mscaley\u001b[0m\u001b[0;34m,\u001b[0m\u001b[0;34m\u001b[0m\u001b[0;34m\u001b[0m\u001b[0m\n\u001b[1;32m   2814\u001b[0m         **({\"data\": data} if data is not None else {}), **kwargs)\n",
            "\u001b[0;32m/usr/local/lib/python3.10/dist-packages/matplotlib/axes/_axes.py\u001b[0m in \u001b[0;36mplot\u001b[0;34m(self, scalex, scaley, data, *args, **kwargs)\u001b[0m\n\u001b[1;32m   1686\u001b[0m         \"\"\"\n\u001b[1;32m   1687\u001b[0m         \u001b[0mkwargs\u001b[0m \u001b[0;34m=\u001b[0m \u001b[0mcbook\u001b[0m\u001b[0;34m.\u001b[0m\u001b[0mnormalize_kwargs\u001b[0m\u001b[0;34m(\u001b[0m\u001b[0mkwargs\u001b[0m\u001b[0;34m,\u001b[0m \u001b[0mmlines\u001b[0m\u001b[0;34m.\u001b[0m\u001b[0mLine2D\u001b[0m\u001b[0;34m)\u001b[0m\u001b[0;34m\u001b[0m\u001b[0;34m\u001b[0m\u001b[0m\n\u001b[0;32m-> 1688\u001b[0;31m         \u001b[0mlines\u001b[0m \u001b[0;34m=\u001b[0m \u001b[0;34m[\u001b[0m\u001b[0;34m*\u001b[0m\u001b[0mself\u001b[0m\u001b[0;34m.\u001b[0m\u001b[0m_get_lines\u001b[0m\u001b[0;34m(\u001b[0m\u001b[0;34m*\u001b[0m\u001b[0margs\u001b[0m\u001b[0;34m,\u001b[0m \u001b[0mdata\u001b[0m\u001b[0;34m=\u001b[0m\u001b[0mdata\u001b[0m\u001b[0;34m,\u001b[0m \u001b[0;34m**\u001b[0m\u001b[0mkwargs\u001b[0m\u001b[0;34m)\u001b[0m\u001b[0;34m]\u001b[0m\u001b[0;34m\u001b[0m\u001b[0;34m\u001b[0m\u001b[0m\n\u001b[0m\u001b[1;32m   1689\u001b[0m         \u001b[0;32mfor\u001b[0m \u001b[0mline\u001b[0m \u001b[0;32min\u001b[0m \u001b[0mlines\u001b[0m\u001b[0;34m:\u001b[0m\u001b[0;34m\u001b[0m\u001b[0;34m\u001b[0m\u001b[0m\n\u001b[1;32m   1690\u001b[0m             \u001b[0mself\u001b[0m\u001b[0;34m.\u001b[0m\u001b[0madd_line\u001b[0m\u001b[0;34m(\u001b[0m\u001b[0mline\u001b[0m\u001b[0;34m)\u001b[0m\u001b[0;34m\u001b[0m\u001b[0;34m\u001b[0m\u001b[0m\n",
            "\u001b[0;32m/usr/local/lib/python3.10/dist-packages/matplotlib/axes/_base.py\u001b[0m in \u001b[0;36m__call__\u001b[0;34m(self, data, *args, **kwargs)\u001b[0m\n\u001b[1;32m    309\u001b[0m                 \u001b[0mthis\u001b[0m \u001b[0;34m+=\u001b[0m \u001b[0margs\u001b[0m\u001b[0;34m[\u001b[0m\u001b[0;36m0\u001b[0m\u001b[0;34m]\u001b[0m\u001b[0;34m,\u001b[0m\u001b[0;34m\u001b[0m\u001b[0;34m\u001b[0m\u001b[0m\n\u001b[1;32m    310\u001b[0m                 \u001b[0margs\u001b[0m \u001b[0;34m=\u001b[0m \u001b[0margs\u001b[0m\u001b[0;34m[\u001b[0m\u001b[0;36m1\u001b[0m\u001b[0;34m:\u001b[0m\u001b[0;34m]\u001b[0m\u001b[0;34m\u001b[0m\u001b[0;34m\u001b[0m\u001b[0m\n\u001b[0;32m--> 311\u001b[0;31m             yield from self._plot_args(\n\u001b[0m\u001b[1;32m    312\u001b[0m                 this, kwargs, ambiguous_fmt_datakey=ambiguous_fmt_datakey)\n\u001b[1;32m    313\u001b[0m \u001b[0;34m\u001b[0m\u001b[0m\n",
            "\u001b[0;32m/usr/local/lib/python3.10/dist-packages/matplotlib/axes/_base.py\u001b[0m in \u001b[0;36m_plot_args\u001b[0;34m(self, tup, kwargs, return_kwargs, ambiguous_fmt_datakey)\u001b[0m\n\u001b[1;32m    505\u001b[0m                              f\"have shapes {x.shape} and {y.shape}\")\n\u001b[1;32m    506\u001b[0m         \u001b[0;32mif\u001b[0m \u001b[0mx\u001b[0m\u001b[0;34m.\u001b[0m\u001b[0mndim\u001b[0m \u001b[0;34m>\u001b[0m \u001b[0;36m2\u001b[0m \u001b[0;32mor\u001b[0m \u001b[0my\u001b[0m\u001b[0;34m.\u001b[0m\u001b[0mndim\u001b[0m \u001b[0;34m>\u001b[0m \u001b[0;36m2\u001b[0m\u001b[0;34m:\u001b[0m\u001b[0;34m\u001b[0m\u001b[0;34m\u001b[0m\u001b[0m\n\u001b[0;32m--> 507\u001b[0;31m             raise ValueError(f\"x and y can be no greater than 2D, but have \"\n\u001b[0m\u001b[1;32m    508\u001b[0m                              f\"shapes {x.shape} and {y.shape}\")\n\u001b[1;32m    509\u001b[0m         \u001b[0;32mif\u001b[0m \u001b[0mx\u001b[0m\u001b[0;34m.\u001b[0m\u001b[0mndim\u001b[0m \u001b[0;34m==\u001b[0m \u001b[0;36m1\u001b[0m\u001b[0;34m:\u001b[0m\u001b[0;34m\u001b[0m\u001b[0;34m\u001b[0m\u001b[0m\n",
            "\u001b[0;31mValueError\u001b[0m: x and y can be no greater than 2D, but have shapes (20,) and (20, 60, 1)"
          ]
        },
        {
          "output_type": "display_data",
          "data": {
            "text/plain": [
              "<Figure size 640x480 with 1 Axes>"
            ],
            "image/png": "[encoded data removed]"
          },
          "metadata": {}
        }
      ]
    }
  ]
}